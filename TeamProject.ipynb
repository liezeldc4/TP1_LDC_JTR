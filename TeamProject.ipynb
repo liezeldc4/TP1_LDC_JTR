{
 "cells": [
  {
   "cell_type": "code",
   "execution_count": 1,
   "metadata": {
    "id": "D0KQixX457wR"
   },
   "outputs": [],
   "source": [
    "# importing all the required libraries\n",
    "import pandas as pd\n",
    "import numpy as np\n",
    "import matplotlib.pyplot as plt\n",
    "import seaborn as sns"
   ]
  },
  {
   "cell_type": "code",
   "execution_count": 2,
   "metadata": {
    "id": "KmdSolP66VtP"
   },
   "outputs": [],
   "source": [
    "# loading the csv file into the dataframe\n",
    "df = pd.read_csv('covid_worldwide.csv')"
   ]
  },
  {
   "cell_type": "code",
   "execution_count": 3,
   "metadata": {
    "colab": {
     "base_uri": "https://localhost:8080/",
     "height": 206
    },
    "id": "Tp9ctsLO6eRG",
    "outputId": "16a4fec7-4621-4039-c285-76f2d31f1667",
    "scrolled": true
   },
   "outputs": [
    {
     "data": {
      "text/html": [
       "<div>\n",
       "<style scoped>\n",
       "    .dataframe tbody tr th:only-of-type {\n",
       "        vertical-align: middle;\n",
       "    }\n",
       "\n",
       "    .dataframe tbody tr th {\n",
       "        vertical-align: top;\n",
       "    }\n",
       "\n",
       "    .dataframe thead th {\n",
       "        text-align: right;\n",
       "    }\n",
       "</style>\n",
       "<table border=\"1\" class=\"dataframe\">\n",
       "  <thead>\n",
       "    <tr style=\"text-align: right;\">\n",
       "      <th></th>\n",
       "      <th>Serial Number</th>\n",
       "      <th>Country</th>\n",
       "      <th>Total Cases</th>\n",
       "      <th>Total Deaths</th>\n",
       "      <th>Total Recovered</th>\n",
       "      <th>Active Cases</th>\n",
       "      <th>Total Test</th>\n",
       "      <th>Population</th>\n",
       "    </tr>\n",
       "  </thead>\n",
       "  <tbody>\n",
       "    <tr>\n",
       "      <th>0</th>\n",
       "      <td>1</td>\n",
       "      <td>USA</td>\n",
       "      <td>104,196,861</td>\n",
       "      <td>1,132,935</td>\n",
       "      <td>101,322,779</td>\n",
       "      <td>1,741,147</td>\n",
       "      <td>1,159,832,679</td>\n",
       "      <td>334,805,269</td>\n",
       "    </tr>\n",
       "    <tr>\n",
       "      <th>1</th>\n",
       "      <td>2</td>\n",
       "      <td>India</td>\n",
       "      <td>44,682,784</td>\n",
       "      <td>530,740</td>\n",
       "      <td>44,150,289</td>\n",
       "      <td>1,755</td>\n",
       "      <td>915,265,788</td>\n",
       "      <td>1,406,631,776</td>\n",
       "    </tr>\n",
       "    <tr>\n",
       "      <th>2</th>\n",
       "      <td>3</td>\n",
       "      <td>France</td>\n",
       "      <td>39,524,311</td>\n",
       "      <td>164,233</td>\n",
       "      <td>39,264,546</td>\n",
       "      <td>95,532</td>\n",
       "      <td>271,490,188</td>\n",
       "      <td>65,584,518</td>\n",
       "    </tr>\n",
       "    <tr>\n",
       "      <th>3</th>\n",
       "      <td>4</td>\n",
       "      <td>Germany</td>\n",
       "      <td>37,779,833</td>\n",
       "      <td>165,711</td>\n",
       "      <td>37,398,100</td>\n",
       "      <td>216,022</td>\n",
       "      <td>122,332,384</td>\n",
       "      <td>83,883,596</td>\n",
       "    </tr>\n",
       "    <tr>\n",
       "      <th>4</th>\n",
       "      <td>5</td>\n",
       "      <td>Brazil</td>\n",
       "      <td>36,824,580</td>\n",
       "      <td>697,074</td>\n",
       "      <td>35,919,372</td>\n",
       "      <td>208,134</td>\n",
       "      <td>63,776,166</td>\n",
       "      <td>215,353,593</td>\n",
       "    </tr>\n",
       "  </tbody>\n",
       "</table>\n",
       "</div>"
      ],
      "text/plain": [
       "   Serial Number  Country  Total Cases Total Deaths Total Recovered  \\\n",
       "0              1      USA  104,196,861    1,132,935     101,322,779   \n",
       "1              2    India   44,682,784      530,740      44,150,289   \n",
       "2              3   France   39,524,311      164,233      39,264,546   \n",
       "3              4  Germany   37,779,833      165,711      37,398,100   \n",
       "4              5   Brazil   36,824,580      697,074      35,919,372   \n",
       "\n",
       "  Active Cases     Total Test     Population  \n",
       "0    1,741,147  1,159,832,679    334,805,269  \n",
       "1        1,755    915,265,788  1,406,631,776  \n",
       "2       95,532    271,490,188     65,584,518  \n",
       "3      216,022    122,332,384     83,883,596  \n",
       "4      208,134     63,776,166    215,353,593  "
      ]
     },
     "execution_count": 3,
     "metadata": {},
     "output_type": "execute_result"
    }
   ],
   "source": [
    "# check the top 5 rows of the data\n",
    "df.head()"
   ]
  },
  {
   "cell_type": "code",
   "execution_count": 4,
   "metadata": {
    "colab": {
     "base_uri": "https://localhost:8080/",
     "height": 206
    },
    "id": "At_Gm3LY6h8A",
    "outputId": "f8852902-5e27-419a-b1b2-38598095bdae",
    "scrolled": true
   },
   "outputs": [
    {
     "data": {
      "text/html": [
       "<div>\n",
       "<style scoped>\n",
       "    .dataframe tbody tr th:only-of-type {\n",
       "        vertical-align: middle;\n",
       "    }\n",
       "\n",
       "    .dataframe tbody tr th {\n",
       "        vertical-align: top;\n",
       "    }\n",
       "\n",
       "    .dataframe thead th {\n",
       "        text-align: right;\n",
       "    }\n",
       "</style>\n",
       "<table border=\"1\" class=\"dataframe\">\n",
       "  <thead>\n",
       "    <tr style=\"text-align: right;\">\n",
       "      <th></th>\n",
       "      <th>Serial Number</th>\n",
       "      <th>Country</th>\n",
       "      <th>Total Cases</th>\n",
       "      <th>Total Deaths</th>\n",
       "      <th>Total Recovered</th>\n",
       "      <th>Active Cases</th>\n",
       "      <th>Total Test</th>\n",
       "      <th>Population</th>\n",
       "    </tr>\n",
       "  </thead>\n",
       "  <tbody>\n",
       "    <tr>\n",
       "      <th>226</th>\n",
       "      <td>227</td>\n",
       "      <td>Diamond Princess</td>\n",
       "      <td>712</td>\n",
       "      <td>13</td>\n",
       "      <td>699</td>\n",
       "      <td>0</td>\n",
       "      <td>NaN</td>\n",
       "      <td>NaN</td>\n",
       "    </tr>\n",
       "    <tr>\n",
       "      <th>227</th>\n",
       "      <td>228</td>\n",
       "      <td>Vatican City</td>\n",
       "      <td>29</td>\n",
       "      <td>NaN</td>\n",
       "      <td>29</td>\n",
       "      <td>0</td>\n",
       "      <td>NaN</td>\n",
       "      <td>799</td>\n",
       "    </tr>\n",
       "    <tr>\n",
       "      <th>228</th>\n",
       "      <td>229</td>\n",
       "      <td>Western Sahara</td>\n",
       "      <td>10</td>\n",
       "      <td>1</td>\n",
       "      <td>9</td>\n",
       "      <td>0</td>\n",
       "      <td>NaN</td>\n",
       "      <td>626,161</td>\n",
       "    </tr>\n",
       "    <tr>\n",
       "      <th>229</th>\n",
       "      <td>230</td>\n",
       "      <td>MS Zaandam</td>\n",
       "      <td>9</td>\n",
       "      <td>2</td>\n",
       "      <td>7</td>\n",
       "      <td>0</td>\n",
       "      <td>NaN</td>\n",
       "      <td>NaN</td>\n",
       "    </tr>\n",
       "    <tr>\n",
       "      <th>230</th>\n",
       "      <td>231</td>\n",
       "      <td>Tokelau</td>\n",
       "      <td>5</td>\n",
       "      <td>NaN</td>\n",
       "      <td>NaN</td>\n",
       "      <td>5</td>\n",
       "      <td>NaN</td>\n",
       "      <td>1,378</td>\n",
       "    </tr>\n",
       "  </tbody>\n",
       "</table>\n",
       "</div>"
      ],
      "text/plain": [
       "     Serial Number           Country Total Cases Total Deaths Total Recovered  \\\n",
       "226            227  Diamond Princess         712           13             699   \n",
       "227            228      Vatican City          29          NaN              29   \n",
       "228            229    Western Sahara          10            1               9   \n",
       "229            230        MS Zaandam           9            2               7   \n",
       "230            231           Tokelau           5          NaN             NaN   \n",
       "\n",
       "    Active Cases Total Test Population  \n",
       "226            0        NaN        NaN  \n",
       "227            0        NaN        799  \n",
       "228            0        NaN    626,161  \n",
       "229            0        NaN        NaN  \n",
       "230            5        NaN      1,378  "
      ]
     },
     "execution_count": 4,
     "metadata": {},
     "output_type": "execute_result"
    }
   ],
   "source": [
    "# check the last 5 rows of the dataset\n",
    "df.tail()"
   ]
  },
  {
   "cell_type": "code",
   "execution_count": 5,
   "metadata": {},
   "outputs": [
    {
     "data": {
      "text/plain": [
       "Serial Number               10\n",
       "Country                 Russia\n",
       "Total Cases         21,958,696\n",
       "Total Deaths           395,108\n",
       "Total Recovered     21,356,008\n",
       "Active Cases           207,580\n",
       "Total Test         273,400,000\n",
       "Population         145,805,947\n",
       "Name: 9, dtype: object"
      ]
     },
     "metadata": {},
     "output_type": "display_data"
    }
   ],
   "source": [
    "display(df.iloc[9])"
   ]
  },
  {
   "cell_type": "code",
   "execution_count": 6,
   "metadata": {
    "colab": {
     "base_uri": "https://localhost:8080/"
    },
    "id": "wuNSKrzr6k6A",
    "outputId": "fd655deb-2b6e-4667-fe5f-9f6e92624cf7"
   },
   "outputs": [
    {
     "data": {
      "text/plain": [
       "(231, 8)"
      ]
     },
     "execution_count": 6,
     "metadata": {},
     "output_type": "execute_result"
    }
   ],
   "source": [
    "# check the shape of the data\n",
    "df.shape"
   ]
  },
  {
   "cell_type": "code",
   "execution_count": 7,
   "metadata": {
    "colab": {
     "base_uri": "https://localhost:8080/"
    },
    "id": "0FTPXevQ6ohW",
    "outputId": "ed6d263d-22f2-4794-89d1-0b2cf41b4c74"
   },
   "outputs": [
    {
     "name": "stdout",
     "output_type": "stream",
     "text": [
      "<class 'pandas.core.frame.DataFrame'>\n",
      "RangeIndex: 231 entries, 0 to 230\n",
      "Data columns (total 8 columns):\n",
      " #   Column           Non-Null Count  Dtype \n",
      "---  ------           --------------  ----- \n",
      " 0   Serial Number    231 non-null    int64 \n",
      " 1   Country          231 non-null    object\n",
      " 2   Total Cases      231 non-null    object\n",
      " 3   Total Deaths     225 non-null    object\n",
      " 4   Total Recovered  210 non-null    object\n",
      " 5   Active Cases     212 non-null    object\n",
      " 6   Total Test       213 non-null    object\n",
      " 7   Population       228 non-null    object\n",
      "dtypes: int64(1), object(7)\n",
      "memory usage: 14.6+ KB\n"
     ]
    }
   ],
   "source": [
    "# check the datatype of the columns\n",
    "df.info()"
   ]
  },
  {
   "cell_type": "code",
   "execution_count": 8,
   "metadata": {
    "id": "AtvD0kcS7HqN"
   },
   "outputs": [],
   "source": [
    "# Convert numeric columns to numeric data type\n",
    "numeric_cols = ['Total Cases', 'Total Deaths', 'Total Recovered', 'Active Cases', 'Total Test', 'Population']\n",
    "for col in numeric_cols:\n",
    "  df[col] = df[col].str.replace(',', '').astype(float)"
   ]
  },
  {
   "cell_type": "code",
   "execution_count": 9,
   "metadata": {
    "colab": {
     "base_uri": "https://localhost:8080/"
    },
    "id": "TS3n_4q37mbN",
    "outputId": "75441160-0fe8-4684-fd43-8f37bd91c9b1"
   },
   "outputs": [
    {
     "name": "stdout",
     "output_type": "stream",
     "text": [
      "<class 'pandas.core.frame.DataFrame'>\n",
      "RangeIndex: 231 entries, 0 to 230\n",
      "Data columns (total 8 columns):\n",
      " #   Column           Non-Null Count  Dtype  \n",
      "---  ------           --------------  -----  \n",
      " 0   Serial Number    231 non-null    int64  \n",
      " 1   Country          231 non-null    object \n",
      " 2   Total Cases      231 non-null    float64\n",
      " 3   Total Deaths     225 non-null    float64\n",
      " 4   Total Recovered  210 non-null    float64\n",
      " 5   Active Cases     212 non-null    float64\n",
      " 6   Total Test       213 non-null    float64\n",
      " 7   Population       228 non-null    float64\n",
      "dtypes: float64(6), int64(1), object(1)\n",
      "memory usage: 14.6+ KB\n"
     ]
    }
   ],
   "source": [
    "# check the datatype again\n",
    "df.info()"
   ]
  },
  {
   "cell_type": "code",
   "execution_count": 10,
   "metadata": {},
   "outputs": [
    {
     "name": "stdout",
     "output_type": "stream",
     "text": [
      "Serial Number       0\n",
      "Country             0\n",
      "Total Cases         0\n",
      "Total Deaths        6\n",
      "Total Recovered    21\n",
      "Active Cases       19\n",
      "Total Test         18\n",
      "Population          3\n",
      "dtype: int64\n"
     ]
    }
   ],
   "source": [
    "# number of missing values in each column\n",
    "missing = df.isnull().sum()\n",
    "print(missing)"
   ]
  },
  {
   "cell_type": "code",
   "execution_count": 11,
   "metadata": {
    "colab": {
     "base_uri": "https://localhost:8080/"
    },
    "id": "LyEoqbEt6tb8",
    "outputId": "e9d9c5d1-d05e-4ece-b5a5-4a9e46ecd7c6"
   },
   "outputs": [
    {
     "name": "stdout",
     "output_type": "stream",
     "text": [
      "Serial Number      0.000000\n",
      "Country            0.000000\n",
      "Total Cases        0.000000\n",
      "Total Deaths       2.597403\n",
      "Total Recovered    9.090909\n",
      "Active Cases       8.225108\n",
      "Total Test         7.792208\n",
      "Population         1.298701\n",
      "dtype: float64\n"
     ]
    }
   ],
   "source": [
    "# Calculate the percentage of missing values in each column\n",
    "missing_percentage = df.isnull().mean() * 100\n",
    "\n",
    "# Print the result\n",
    "print(missing_percentage)"
   ]
  },
  {
   "cell_type": "code",
   "execution_count": 12,
   "metadata": {
    "id": "GI2BXLGT-bBs"
   },
   "outputs": [],
   "source": [
    "# drop the missing values\n",
    "df.dropna(inplace=True)"
   ]
  },
  {
   "cell_type": "code",
   "execution_count": 13,
   "metadata": {},
   "outputs": [
    {
     "data": {
      "text/plain": [
       "False"
      ]
     },
     "execution_count": 13,
     "metadata": {},
     "output_type": "execute_result"
    }
   ],
   "source": [
    "# verify there are no NA or NaN values in entire dataframe\n",
    "df.isnull().values.any()"
   ]
  },
  {
   "cell_type": "code",
   "execution_count": 14,
   "metadata": {
    "colab": {
     "base_uri": "https://localhost:8080/",
     "height": 269
    },
    "id": "b2pcgTN461Gg",
    "outputId": "d4a2115f-9aeb-438b-c6f9-3558378e634f"
   },
   "outputs": [
    {
     "data": {
      "text/html": [
       "<div>\n",
       "<style scoped>\n",
       "    .dataframe tbody tr th:only-of-type {\n",
       "        vertical-align: middle;\n",
       "    }\n",
       "\n",
       "    .dataframe tbody tr th {\n",
       "        vertical-align: top;\n",
       "    }\n",
       "\n",
       "    .dataframe thead th {\n",
       "        text-align: right;\n",
       "    }\n",
       "</style>\n",
       "<table border=\"1\" class=\"dataframe\">\n",
       "  <thead>\n",
       "    <tr style=\"text-align: right;\">\n",
       "      <th></th>\n",
       "      <th>count</th>\n",
       "      <th>mean</th>\n",
       "      <th>std</th>\n",
       "      <th>min</th>\n",
       "      <th>25%</th>\n",
       "      <th>50%</th>\n",
       "      <th>75%</th>\n",
       "      <th>max</th>\n",
       "    </tr>\n",
       "  </thead>\n",
       "  <tbody>\n",
       "    <tr>\n",
       "      <th>Serial Number</th>\n",
       "      <td>195.0</td>\n",
       "      <td>1.071897e+02</td>\n",
       "      <td>6.430396e+01</td>\n",
       "      <td>1.0</td>\n",
       "      <td>51.5</td>\n",
       "      <td>104.0</td>\n",
       "      <td>162.0</td>\n",
       "      <td>2.250000e+02</td>\n",
       "    </tr>\n",
       "    <tr>\n",
       "      <th>Total Cases</th>\n",
       "      <td>195.0</td>\n",
       "      <td>3.329258e+06</td>\n",
       "      <td>1.019503e+07</td>\n",
       "      <td>1403.0</td>\n",
       "      <td>37865.5</td>\n",
       "      <td>297757.0</td>\n",
       "      <td>1723625.0</td>\n",
       "      <td>1.041969e+08</td>\n",
       "    </tr>\n",
       "    <tr>\n",
       "      <th>Total Deaths</th>\n",
       "      <td>195.0</td>\n",
       "      <td>3.378704e+04</td>\n",
       "      <td>1.125272e+05</td>\n",
       "      <td>1.0</td>\n",
       "      <td>313.0</td>\n",
       "      <td>3155.0</td>\n",
       "      <td>16877.0</td>\n",
       "      <td>1.132935e+06</td>\n",
       "    </tr>\n",
       "    <tr>\n",
       "      <th>Total Recovered</th>\n",
       "      <td>195.0</td>\n",
       "      <td>3.197261e+06</td>\n",
       "      <td>9.846399e+06</td>\n",
       "      <td>438.0</td>\n",
       "      <td>34699.5</td>\n",
       "      <td>288991.0</td>\n",
       "      <td>1708095.0</td>\n",
       "      <td>1.013228e+08</td>\n",
       "    </tr>\n",
       "    <tr>\n",
       "      <th>Active Cases</th>\n",
       "      <td>195.0</td>\n",
       "      <td>9.821017e+04</td>\n",
       "      <td>7.988122e+05</td>\n",
       "      <td>0.0</td>\n",
       "      <td>78.0</td>\n",
       "      <td>1253.0</td>\n",
       "      <td>10848.5</td>\n",
       "      <td>1.095262e+07</td>\n",
       "    </tr>\n",
       "    <tr>\n",
       "      <th>Total Test</th>\n",
       "      <td>195.0</td>\n",
       "      <td>3.375474e+07</td>\n",
       "      <td>1.220386e+08</td>\n",
       "      <td>7850.0</td>\n",
       "      <td>401044.0</td>\n",
       "      <td>2610114.0</td>\n",
       "      <td>14772746.5</td>\n",
       "      <td>1.159833e+09</td>\n",
       "    </tr>\n",
       "    <tr>\n",
       "      <th>Population</th>\n",
       "      <td>195.0</td>\n",
       "      <td>3.207370e+07</td>\n",
       "      <td>1.099820e+08</td>\n",
       "      <td>4965.0</td>\n",
       "      <td>1100457.0</td>\n",
       "      <td>6844597.0</td>\n",
       "      <td>27826923.0</td>\n",
       "      <td>1.406632e+09</td>\n",
       "    </tr>\n",
       "  </tbody>\n",
       "</table>\n",
       "</div>"
      ],
      "text/plain": [
       "                 count          mean           std     min        25%  \\\n",
       "Serial Number    195.0  1.071897e+02  6.430396e+01     1.0       51.5   \n",
       "Total Cases      195.0  3.329258e+06  1.019503e+07  1403.0    37865.5   \n",
       "Total Deaths     195.0  3.378704e+04  1.125272e+05     1.0      313.0   \n",
       "Total Recovered  195.0  3.197261e+06  9.846399e+06   438.0    34699.5   \n",
       "Active Cases     195.0  9.821017e+04  7.988122e+05     0.0       78.0   \n",
       "Total Test       195.0  3.375474e+07  1.220386e+08  7850.0   401044.0   \n",
       "Population       195.0  3.207370e+07  1.099820e+08  4965.0  1100457.0   \n",
       "\n",
       "                       50%         75%           max  \n",
       "Serial Number        104.0       162.0  2.250000e+02  \n",
       "Total Cases       297757.0   1723625.0  1.041969e+08  \n",
       "Total Deaths        3155.0     16877.0  1.132935e+06  \n",
       "Total Recovered   288991.0   1708095.0  1.013228e+08  \n",
       "Active Cases        1253.0     10848.5  1.095262e+07  \n",
       "Total Test       2610114.0  14772746.5  1.159833e+09  \n",
       "Population       6844597.0  27826923.0  1.406632e+09  "
      ]
     },
     "execution_count": 14,
     "metadata": {},
     "output_type": "execute_result"
    }
   ],
   "source": [
    "# check the summary statistics of the data\n",
    "df.describe().T"
   ]
  },
  {
   "cell_type": "code",
   "execution_count": 15,
   "metadata": {
    "colab": {
     "base_uri": "https://localhost:8080/"
    },
    "id": "eEahOPrn7Dxb",
    "outputId": "33cf4173-778a-4d85-be15-d47cc374cb33"
   },
   "outputs": [
    {
     "data": {
      "text/plain": [
       "USA              1\n",
       "Bahamas          1\n",
       "Malawi           1\n",
       "Ivory Coast      1\n",
       "New Caledonia    1\n",
       "                ..\n",
       "Panama           1\n",
       "Mongolia         1\n",
       "Nepal            1\n",
       "Belarus          1\n",
       "Montserrat       1\n",
       "Name: Country, Length: 195, dtype: int64"
      ]
     },
     "execution_count": 15,
     "metadata": {},
     "output_type": "execute_result"
    }
   ],
   "source": [
    "# Get frequency of categorical column\n",
    "df['Country'].value_counts()"
   ]
  },
  {
   "cell_type": "code",
   "execution_count": 16,
   "metadata": {
    "colab": {
     "base_uri": "https://localhost:8080/"
    },
    "id": "fKNopGId9i9p",
    "outputId": "9cb17f2e-1193-46d9-a8c8-42e1feb152d5"
   },
   "outputs": [
    {
     "data": {
      "text/plain": [
       "USA              0.005128\n",
       "Bahamas          0.005128\n",
       "Malawi           0.005128\n",
       "Ivory Coast      0.005128\n",
       "New Caledonia    0.005128\n",
       "                   ...   \n",
       "Panama           0.005128\n",
       "Mongolia         0.005128\n",
       "Nepal            0.005128\n",
       "Belarus          0.005128\n",
       "Montserrat       0.005128\n",
       "Name: Country, Length: 195, dtype: float64"
      ]
     },
     "execution_count": 16,
     "metadata": {},
     "output_type": "execute_result"
    }
   ],
   "source": [
    "# Get the proportion of categorical column\n",
    "df['Country'].value_counts(normalize=True)"
   ]
  },
  {
   "cell_type": "code",
   "execution_count": 17,
   "metadata": {
    "colab": {
     "base_uri": "https://localhost:8080/",
     "height": 269
    },
    "id": "1BEl3oNF8v9b",
    "outputId": "645bc8d2-9a7d-45df-ed32-73b0e4bd76c4"
   },
   "outputs": [
    {
     "data": {
      "text/html": [
       "<div>\n",
       "<style scoped>\n",
       "    .dataframe tbody tr th:only-of-type {\n",
       "        vertical-align: middle;\n",
       "    }\n",
       "\n",
       "    .dataframe tbody tr th {\n",
       "        vertical-align: top;\n",
       "    }\n",
       "\n",
       "    .dataframe thead th {\n",
       "        text-align: right;\n",
       "    }\n",
       "</style>\n",
       "<table border=\"1\" class=\"dataframe\">\n",
       "  <thead>\n",
       "    <tr style=\"text-align: right;\">\n",
       "      <th></th>\n",
       "      <th>Serial Number</th>\n",
       "      <th>Total Cases</th>\n",
       "      <th>Total Deaths</th>\n",
       "      <th>Total Recovered</th>\n",
       "      <th>Active Cases</th>\n",
       "      <th>Total Test</th>\n",
       "      <th>Population</th>\n",
       "    </tr>\n",
       "  </thead>\n",
       "  <tbody>\n",
       "    <tr>\n",
       "      <th>Serial Number</th>\n",
       "      <td>1.000000</td>\n",
       "      <td>-0.463011</td>\n",
       "      <td>-0.412296</td>\n",
       "      <td>-0.460312</td>\n",
       "      <td>-0.177270</td>\n",
       "      <td>-0.383558</td>\n",
       "      <td>-0.288476</td>\n",
       "    </tr>\n",
       "    <tr>\n",
       "      <th>Total Cases</th>\n",
       "      <td>-0.463011</td>\n",
       "      <td>1.000000</td>\n",
       "      <td>0.878457</td>\n",
       "      <td>0.997221</td>\n",
       "      <td>0.346938</td>\n",
       "      <td>0.842994</td>\n",
       "      <td>0.522161</td>\n",
       "    </tr>\n",
       "    <tr>\n",
       "      <th>Total Deaths</th>\n",
       "      <td>-0.412296</td>\n",
       "      <td>0.878457</td>\n",
       "      <td>1.000000</td>\n",
       "      <td>0.885198</td>\n",
       "      <td>0.159427</td>\n",
       "      <td>0.795416</td>\n",
       "      <td>0.572756</td>\n",
       "    </tr>\n",
       "    <tr>\n",
       "      <th>Total Recovered</th>\n",
       "      <td>-0.460312</td>\n",
       "      <td>0.997221</td>\n",
       "      <td>0.885198</td>\n",
       "      <td>1.000000</td>\n",
       "      <td>0.276273</td>\n",
       "      <td>0.851625</td>\n",
       "      <td>0.525893</td>\n",
       "    </tr>\n",
       "    <tr>\n",
       "      <th>Active Cases</th>\n",
       "      <td>-0.177270</td>\n",
       "      <td>0.346938</td>\n",
       "      <td>0.159427</td>\n",
       "      <td>0.276273</td>\n",
       "      <td>1.000000</td>\n",
       "      <td>0.149469</td>\n",
       "      <td>0.101207</td>\n",
       "    </tr>\n",
       "    <tr>\n",
       "      <th>Total Test</th>\n",
       "      <td>-0.383558</td>\n",
       "      <td>0.842994</td>\n",
       "      <td>0.795416</td>\n",
       "      <td>0.851625</td>\n",
       "      <td>0.149469</td>\n",
       "      <td>1.000000</td>\n",
       "      <td>0.665094</td>\n",
       "    </tr>\n",
       "    <tr>\n",
       "      <th>Population</th>\n",
       "      <td>-0.288476</td>\n",
       "      <td>0.522161</td>\n",
       "      <td>0.572756</td>\n",
       "      <td>0.525893</td>\n",
       "      <td>0.101207</td>\n",
       "      <td>0.665094</td>\n",
       "      <td>1.000000</td>\n",
       "    </tr>\n",
       "  </tbody>\n",
       "</table>\n",
       "</div>"
      ],
      "text/plain": [
       "                 Serial Number  Total Cases  Total Deaths  Total Recovered  \\\n",
       "Serial Number         1.000000    -0.463011     -0.412296        -0.460312   \n",
       "Total Cases          -0.463011     1.000000      0.878457         0.997221   \n",
       "Total Deaths         -0.412296     0.878457      1.000000         0.885198   \n",
       "Total Recovered      -0.460312     0.997221      0.885198         1.000000   \n",
       "Active Cases         -0.177270     0.346938      0.159427         0.276273   \n",
       "Total Test           -0.383558     0.842994      0.795416         0.851625   \n",
       "Population           -0.288476     0.522161      0.572756         0.525893   \n",
       "\n",
       "                 Active Cases  Total Test  Population  \n",
       "Serial Number       -0.177270   -0.383558   -0.288476  \n",
       "Total Cases          0.346938    0.842994    0.522161  \n",
       "Total Deaths         0.159427    0.795416    0.572756  \n",
       "Total Recovered      0.276273    0.851625    0.525893  \n",
       "Active Cases         1.000000    0.149469    0.101207  \n",
       "Total Test           0.149469    1.000000    0.665094  \n",
       "Population           0.101207    0.665094    1.000000  "
      ]
     },
     "execution_count": 17,
     "metadata": {},
     "output_type": "execute_result"
    }
   ],
   "source": [
    "# Select only continuous variables\n",
    "continuous_vars = df.select_dtypes(include='number')\n",
    "\n",
    "# Generate the correlation matrix\n",
    "corr_matrix = continuous_vars.corr()\n",
    "\n",
    "# Print the correlation matrix\n",
    "corr_matrix"
   ]
  },
  {
   "cell_type": "code",
   "execution_count": 18,
   "metadata": {
    "colab": {
     "base_uri": "https://localhost:8080/",
     "height": 350
    },
    "id": "FC-6qczk9MKN",
    "outputId": "14ba99a9-eb23-405b-f553-b57e68baaa92"
   },
   "outputs": [
    {
     "data": {
      "image/png": "[encoded data removed]",
      "text/plain": [
       "<Figure size 432x288 with 2 Axes>"
      ]
     },
     "metadata": {
      "needs_background": "light"
     },
     "output_type": "display_data"
    }
   ],
   "source": [
    "# Plot the heatmap\n",
    "sns.heatmap(corr_matrix, cmap='coolwarm', annot=True)\n",
    "plt.title('Correlation Matrix Heatmap')\n",
    "plt.show()"
   ]
  },
  {
   "cell_type": "code",
   "execution_count": 19,
   "metadata": {
    "colab": {
     "base_uri": "https://localhost:8080/",
     "height": 434
    },
    "id": "l_ckXACx-2sB",
    "outputId": "ad61003a-aa29-4f52-97cf-5a7717691ab7"
   },
   "outputs": [
    {
     "data": {
      "image/png": "[encoded data removed]",
      "text/plain": [
       "<Figure size 864x432 with 1 Axes>"
      ]
     },
     "metadata": {
      "needs_background": "light"
     },
     "output_type": "display_data"
    }
   ],
   "source": [
    "top_10_cases = df.sort_values(by='Total Cases', ascending=False).head(10)\n",
    "plt.figure(figsize=(12,6))\n",
    "plt.bar(top_10_cases['Country'], top_10_cases['Total Cases'], color='red')\n",
    "plt.title('Top 10 Countries by Total Cases')\n",
    "plt.xlabel('Country')\n",
    "plt.ylabel('Total Cases (in millions)')\n",
    "plt.xticks(rotation=45)\n",
    "plt.show()"
   ]
  },
  {
   "cell_type": "code",
   "execution_count": 20,
   "metadata": {
    "colab": {
     "base_uri": "https://localhost:8080/",
     "height": 482
    },
    "id": "2tmpHRYGAvAx",
    "outputId": "bcaf2a85-a87c-4229-9d17-785cffe92e10"
   },
   "outputs": [
    {
     "data": {
      "image/png": "[encoded data removed]",
      "text/plain": [
       "<Figure size 576x576 with 1 Axes>"
      ]
     },
     "metadata": {},
     "output_type": "display_data"
    }
   ],
   "source": [
    "top_5_deaths = df.sort_values(by='Total Deaths', ascending=False).head(5)\n",
    "plt.figure(figsize=(8,8))\n",
    "plt.pie(top_5_deaths['Total Deaths'], labels=top_5_deaths['Country'], autopct='%1.1f%%')\n",
    "plt.title('Top 5 Countries by Total Deaths')\n",
    "plt.show()\n"
   ]
  },
  {
   "cell_type": "code",
   "execution_count": 27,
   "metadata": {
    "colab": {
     "base_uri": "https://localhost:8080/",
     "height": 403
    },
    "id": "3-IImqmRBEkR",
    "outputId": "a29e370a-0aab-4d3c-8f98-91e1c04d15ba"
   },
   "outputs": [
    {
     "data": {
      "image/png": "[encoded data removed]",
      "text/plain": [
       "<Figure size 864x432 with 1 Axes>"
      ]
     },
     "metadata": {
      "needs_background": "light"
     },
     "output_type": "display_data"
    }
   ],
   "source": [
    "plt.figure(figsize=(12,6))\n",
    "plt.hist(df['Active Cases'])\n",
    "plt.title('Distribution of Active Cases')\n",
    "plt.xlabel('Number of Active Cases (x 10^7)')\n",
    "plt.ylabel('Number of countries')\n",
    "plt.show()"
   ]
  }
 ],
 "metadata": {
  "accelerator": "GPU",
  "colab": {
   "provenance": []
  },
  "gpuClass": "standard",
  "kernelspec": {
   "display_name": "Python 3 (ipykernel)",
   "language": "python",
   "name": "python3"
  },
  "language_info": {
   "codemirror_mode": {
    "name": "ipython",
    "version": 3
   },
   "file_extension": ".py",
   "mimetype": "text/x-python",
   "name": "python",
   "nbconvert_exporter": "python",
   "pygments_lexer": "ipython3",
   "version": "3.9.7"
  }
 },
 "nbformat": 4,
 "nbformat_minor": 1
}
